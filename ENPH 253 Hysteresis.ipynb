{
 "cells": [
  {
   "cell_type": "code",
   "execution_count": 6,
   "id": "a7312f3d-6ab7-4a3e-a793-bebba492721b",
   "metadata": {},
   "outputs": [
    {
     "name": "stdout",
     "output_type": "stream",
     "text": [
      "-6828.178019359183\n"
     ]
    }
   ],
   "source": [
    "import math\n",
    "import pandas as pd\n",
    "import numpy as np\n",
    "import matplotlib.pyplot as plt\n",
    "import scipy.integrate as sci\n",
    "#hello this is Cora\n",
    "#testing branch\n",
    "def findBFromData(Xdata, Ydata, tolerance=0, colour=\"\"):\n",
    "    vals=[]\n",
    "    for x, y in zip(Xdata, Ydata):\n",
    "        if(abs(x)<=tolerance and y>=0):\n",
    "            vals.append(y)\n",
    "    plt.plot(0, sum(vals)/len(vals), colour)\n",
    "    return (vals)\n",
    "\n",
    "def findHFromData(Xdata, Ydata, tolerance=0, colour=\"\"):\n",
    "    vals=[]\n",
    "    for x, y in zip(Xdata, Ydata):\n",
    "        if(abs(y)<=tolerance and x<=0):\n",
    "            vals.append(x)\n",
    "    plt.plot(sum(vals)/len(vals), 0, colour)\n",
    "    return (vals)\n",
    "\n",
    "def Range(vals):\n",
    "    return (abs(np.max(vals)-np.min(vals)))\n",
    "\n",
    "dataset1 = pd.read_excel(io='Iron.xlsx', sheet_name=None)\n",
    "dataset2 = pd.read_excel(io='Steel2.xlsx', sheet_name=None)\n",
    "\n",
    "iron1 = dataset1['Iron']\n",
    "iron1Time=iron1['x-axis'][1::]\n",
    "iron1CH1=iron1['CH1'][1::]\n",
    "iron1CH2=iron1['CH2'][1::]\n",
    "\n",
    "steel1 = dataset2['Steel2']\n",
    "steel1Time=steel1['x-axis'][1::]\n",
    "steel1CH1=steel1['CH1'][1::]\n",
    "steel1CH2=steel1['CH2'][1::]\n",
    "\n",
    "n1=160\n",
    "S=0.1\n",
    "sigS=0.05*0.1\n",
    "n2=150\n",
    "R=1e6\n",
    "sigR=0.01e6\n",
    "C=0.5e-6\n",
    "sigC=0.02*0.5e-6\n",
    "ironMagL=353.38e-3\n",
    "sigIronMagL=0.02e-3\n",
    "steelMagL=71.69e-3\n",
    "sigSteelMagL=0.02e-3\n",
    "crossAreaIron=(29.91e-3)*(28.82e-3)\n",
    "sigAreaIron=0.04e-3\n",
    "crossAreaSteel=(27.50e-3)*(27.71e-3)\n",
    "sigAreaSteel=0.04e-3\n",
    "u0=1.256e-6\n",
    "\n",
    "ironB, ironH = (R*C*iron1CH2)/(n2*crossAreaIron), n1/(ironMagL*S)*iron1CH1\n",
    "steelB, steelH = (R*C*steel1CH2)/(n2*crossAreaSteel), n1/(steelMagL*S)*steel1CH1\n",
    "\n",
    "intSteel = sci.simps(steelB[132:460:4], steelH[132:460:4], even=\"avg\") - sci.simps(steelB[460:613:4], steelH[460:613:4], even=\"avg\")\n",
    "\n",
    "print(intSteel)\n"
   ]
  },
  {
   "cell_type": "code",
   "execution_count": 6,
   "id": "2a361ad1-9226-4b67-a7be-6307925cfb01",
   "metadata": {},
   "outputs": [
    {
     "name": "stdout",
     "output_type": "stream",
     "text": [
      "Expression:\n"
     ]
    },
    {
     "data": {
      "text/latex": [
       "$\\displaystyle A V f$"
      ],
      "text/plain": [
       "A*V*f"
      ]
     },
     "metadata": {},
     "output_type": "display_data"
    },
    {
     "name": "stdout",
     "output_type": "stream",
     "text": [
      "\n",
      "Expression for uncertainty:\n"
     ]
    },
    {
     "data": {
      "text/latex": [
       "$\\displaystyle \\sqrt{A^{2} \\sigma_{R}^{2} f^{2} + V^{2} \\sigma_{b}^{2} f^{2}}$"
      ],
      "text/plain": [
       "sqrt(A**2*\\sigma_R**2*f**2 + V**2*\\sigma_b**2*f**2)"
      ]
     },
     "metadata": {},
     "output_type": "display_data"
    },
    {
     "name": "stdout",
     "output_type": "stream",
     "text": [
      "\n",
      "Value: 28.366998984000 +/- 0.009346622400\n"
     ]
    }
   ],
   "source": [
    "import sympy as sym\n",
    "\n",
    "#declare symbols \n",
    "P, A, V, f = sym.symbols(\"P, A, V, f\")\n",
    "\n",
    "#equation for age\n",
    "P = A*V*f\n",
    "\n",
    "#find partials wrt to t\n",
    "dPdA = sym.diff(P, A)\n",
    "dPdV = sym.diff(P, V)\n",
    "\n",
    "#declare symbols\n",
    "sig_A = sym.symbols('\\sigma_b')\n",
    "sig_V = sym.symbols('\\sigma_R')\n",
    "\n",
    "#equation for uncertainty in age\n",
    "sig_P = sym.sqrt((dPdV * sig_V)**2 + (dPdA * sig_A)**2)\n",
    "\n",
    "#display expressions\n",
    "print(\"Expression:\")\n",
    "display(P)\n",
    "print(\"\\nExpression for uncertainty:\")\n",
    "display(sig_P)\n",
    "\n",
    "#define values for equations\n",
    "val = [(A, 7211.9), (sig_A, 0), (V, 54630e-9), (sig_V, 18e-9), (f, 72)]\n",
    "\n",
    "#sub in values to equations for age and uncertainty in age\n",
    "nP = sym.N(P.subs(val))\n",
    "nsig_P = sym.N(sig_P.subs(val))\n",
    "\n",
    "#print values\n",
    "print(\"\\nValue: %.12f\" %nP, \"+/- %.12f\" %nsig_P)"
   ]
  },
  {
   "cell_type": "code",
   "execution_count": null,
   "id": "02a76098-b1fc-40a2-866f-fae7dad9ff8b",
   "metadata": {},
   "outputs": [],
   "source": [
    "#Hello Izzy this is wonderful beautiful code i have no edits for you!"
   ]
  }
 ],
 "metadata": {
  "kernelspec": {
   "display_name": "Python 3 (ipykernel)",
   "language": "python",
   "name": "python3"
  },
  "language_info": {
   "codemirror_mode": {
    "name": "ipython",
    "version": 3
   },
   "file_extension": ".py",
   "mimetype": "text/x-python",
   "name": "python",
   "nbconvert_exporter": "python",
   "pygments_lexer": "ipython3",
   "version": "3.9.13"
  }
 },
 "nbformat": 4,
 "nbformat_minor": 5
}
